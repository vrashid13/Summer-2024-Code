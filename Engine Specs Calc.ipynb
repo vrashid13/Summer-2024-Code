{
 "cells": [
  {
   "cell_type": "code",
   "execution_count": 279,
   "id": "380bebdb-7496-40a7-9ef2-69b50a0897c3",
   "metadata": {},
   "outputs": [
    {
     "name": "stdout",
     "output_type": "stream",
     "text": [
      "Average Thrust = 1039.48722 Newtons\n",
      "Burn Time = 12.18 Seconds\n",
      "Total Impulse = 12660.954339599999 Newtons*Seconds\n",
      "Specific Impulse = 119.94583271375464 Seconds\n"
     ]
    }
   ],
   "source": [
    "#Documentation Link: https://pandas.pydata.org/pandas-docs/stable/reference/index.html\n",
    "import pandas as pd\n",
    "\n",
    "#Reads the data CSV file into data frame df\n",
    "df = pd.read_csv(\"C:/Users/jtcro/Downloads/ValkyrieFullHotFire.csv\")\n",
    "\n",
    "#Removes rows where all elements are missing -> clears empty rows\n",
    "df = df.dropna(how='all')\n",
    "\n",
    "#Creates new column 'Thrust Force (N)' using 'Thrust Force (kg)' and multiplying by g\n",
    "df['Thrust Force (N)'] = df['thrust (kg)'] * 9.81\n",
    "\n",
    "#Removes columns 'main on', 'Feed Pressure (psi)', 'Load Cell 1 (g)', 'Load Cell 2 (g)', 'Load Cell 3 (g)', 'Load Cell 4 (g)' from data frame\n",
    "df = df.drop(columns = ['main on', 'Feed Pressure (psi)', 'Load Cell 1 (g)', 'Load Cell 2 (g)', 'Load Cell 3 (g)', 'Load Cell 4 (g)', 'thrust (kg)'])\n",
    "\n",
    "#Create new df for thurst\n",
    "df_Thrust = df[['Time Point', 'Thrust Force (N)']]\n",
    "\n",
    "#Reorder df columns\n",
    "df = df[['Time Point', 'Thrust Force (N)', 'Combustion Pressure (Psi)', 'Combustion Top Temp (C°)', 'Combustion Bot Temp (C°)', \n",
    "         'Tank Pressure (psi)', 'Vent temp (C°)']]\n",
    "\n",
    "#Creates a data CSV file at specified file location\n",
    "df_Thrust.to_csv(\"C:/Users/jtcro/Downloads/VHF_Thrust.csv\", index = False)\n",
    "df.to_csv(\"C:/Users/jtcro/Downloads/VHF_Diag_Modified.csv\", index = False)\n",
    "\n",
    "#Prints all rows that have a 'Thrust Force (N)' greater than 100 Newtons using compaison\n",
    "#df_Thrust_sig = df_Thrust.loc[df['Thrust Force (N)'] >= 100]\n",
    "\n",
    "print(\"Average Thrust = \" + str(df_Thrust_sig['Thrust Force (N)'].mean()) + \" Newtons\")\n",
    "print(\"Burn Time = \" + str(df_Thrust_sig['Time Point'].max()) + \" Seconds\")\n",
    "print(\"Total Impulse = \" + str(df_Thrust_sig['Thrust Force (N)'].mean() * df_Thrust_sig['Time Point'].max()) + \" Newtons*Seconds\")\n",
    "print(\"Specific Impulse = \" + str((df_Thrust_sig['Thrust Force (N)'].mean() * df_Thrust_sig['Time Point'].max())/(10.76 * 9.81)) + \" Seconds\")\n",
    "\n",
    "\n",
    "\n",
    "\n",
    "\n"
   ]
  },
  {
   "cell_type": "code",
   "execution_count": null,
   "id": "854c066e-4dc9-4825-b1dc-36eafdcf0405",
   "metadata": {},
   "outputs": [],
   "source": []
  },
  {
   "cell_type": "code",
   "execution_count": null,
   "id": "592a98a1-590d-4686-b384-79979584bc2a",
   "metadata": {},
   "outputs": [],
   "source": []
  },
  {
   "cell_type": "code",
   "execution_count": null,
   "id": "17e922ee-57d6-403a-b6a8-ae62a82b8ca9",
   "metadata": {},
   "outputs": [],
   "source": []
  }
 ],
 "metadata": {
  "kernelspec": {
   "display_name": "Python 3 (ipykernel)",
   "language": "python",
   "name": "python3"
  },
  "language_info": {
   "codemirror_mode": {
    "name": "ipython",
    "version": 3
   },
   "file_extension": ".py",
   "mimetype": "text/x-python",
   "name": "python",
   "nbconvert_exporter": "python",
   "pygments_lexer": "ipython3",
   "version": "3.11.7"
  }
 },
 "nbformat": 4,
 "nbformat_minor": 5
}
